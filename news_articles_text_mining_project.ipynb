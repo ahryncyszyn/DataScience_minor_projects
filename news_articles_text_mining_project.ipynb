{
 "cells": [
  {
   "cell_type": "markdown",
   "metadata": {},
   "source": [
    "Aleksandra Hryncyszyn, Joanna Szczepaniak, Radosław Dawidowski"
   ]
  },
  {
   "cell_type": "code",
   "execution_count": 80,
   "metadata": {},
   "outputs": [
    {
     "name": "stdout",
     "output_type": "stream",
     "text": [
      "Requirement already satisfied: spacy in /Users/ahryncyszyn/anaconda3/lib/python3.11/site-packages (3.7.2)\n",
      "Requirement already satisfied: en_core_web_sm in /Users/ahryncyszyn/anaconda3/lib/python3.11/site-packages (3.7.1)\n",
      "Requirement already satisfied: textblob in /Users/ahryncyszyn/anaconda3/lib/python3.11/site-packages (0.17.1)\n",
      "Requirement already satisfied: spacy-legacy<3.1.0,>=3.0.11 in /Users/ahryncyszyn/anaconda3/lib/python3.11/site-packages (from spacy) (3.0.12)\n",
      "Requirement already satisfied: spacy-loggers<2.0.0,>=1.0.0 in /Users/ahryncyszyn/anaconda3/lib/python3.11/site-packages (from spacy) (1.0.5)\n",
      "Requirement already satisfied: murmurhash<1.1.0,>=0.28.0 in /Users/ahryncyszyn/anaconda3/lib/python3.11/site-packages (from spacy) (1.0.10)\n",
      "Requirement already satisfied: cymem<2.1.0,>=2.0.2 in /Users/ahryncyszyn/anaconda3/lib/python3.11/site-packages (from spacy) (2.0.8)\n",
      "Requirement already satisfied: preshed<3.1.0,>=3.0.2 in /Users/ahryncyszyn/anaconda3/lib/python3.11/site-packages (from spacy) (3.0.9)\n",
      "Requirement already satisfied: thinc<8.3.0,>=8.1.8 in /Users/ahryncyszyn/anaconda3/lib/python3.11/site-packages (from spacy) (8.2.2)\n",
      "Requirement already satisfied: wasabi<1.2.0,>=0.9.1 in /Users/ahryncyszyn/anaconda3/lib/python3.11/site-packages (from spacy) (1.1.2)\n",
      "Requirement already satisfied: srsly<3.0.0,>=2.4.3 in /Users/ahryncyszyn/anaconda3/lib/python3.11/site-packages (from spacy) (2.4.8)\n",
      "Requirement already satisfied: catalogue<2.1.0,>=2.0.6 in /Users/ahryncyszyn/anaconda3/lib/python3.11/site-packages (from spacy) (2.0.10)\n",
      "Requirement already satisfied: weasel<0.4.0,>=0.1.0 in /Users/ahryncyszyn/anaconda3/lib/python3.11/site-packages (from spacy) (0.3.4)\n",
      "Requirement already satisfied: typer<0.10.0,>=0.3.0 in /Users/ahryncyszyn/anaconda3/lib/python3.11/site-packages (from spacy) (0.9.0)\n",
      "Requirement already satisfied: smart-open<7.0.0,>=5.2.1 in /Users/ahryncyszyn/anaconda3/lib/python3.11/site-packages (from spacy) (5.2.1)\n",
      "Requirement already satisfied: tqdm<5.0.0,>=4.38.0 in /Users/ahryncyszyn/anaconda3/lib/python3.11/site-packages (from spacy) (4.65.0)\n",
      "Requirement already satisfied: requests<3.0.0,>=2.13.0 in /Users/ahryncyszyn/anaconda3/lib/python3.11/site-packages (from spacy) (2.31.0)\n",
      "Requirement already satisfied: pydantic!=1.8,!=1.8.1,<3.0.0,>=1.7.4 in /Users/ahryncyszyn/anaconda3/lib/python3.11/site-packages (from spacy) (2.5.3)\n",
      "Requirement already satisfied: jinja2 in /Users/ahryncyszyn/anaconda3/lib/python3.11/site-packages (from spacy) (3.1.2)\n",
      "Requirement already satisfied: setuptools in /Users/ahryncyszyn/anaconda3/lib/python3.11/site-packages (from spacy) (68.0.0)\n",
      "Requirement already satisfied: packaging>=20.0 in /Users/ahryncyszyn/anaconda3/lib/python3.11/site-packages (from spacy) (23.0)\n",
      "Requirement already satisfied: langcodes<4.0.0,>=3.2.0 in /Users/ahryncyszyn/anaconda3/lib/python3.11/site-packages (from spacy) (3.3.0)\n",
      "Requirement already satisfied: numpy>=1.19.0 in /Users/ahryncyszyn/anaconda3/lib/python3.11/site-packages (from spacy) (1.24.3)\n",
      "Requirement already satisfied: nltk>=3.1 in /Users/ahryncyszyn/anaconda3/lib/python3.11/site-packages (from textblob) (3.8.1)\n",
      "Requirement already satisfied: click in /Users/ahryncyszyn/anaconda3/lib/python3.11/site-packages (from nltk>=3.1->textblob) (8.0.4)\n",
      "Requirement already satisfied: joblib in /Users/ahryncyszyn/anaconda3/lib/python3.11/site-packages (from nltk>=3.1->textblob) (1.2.0)\n",
      "Requirement already satisfied: regex>=2021.8.3 in /Users/ahryncyszyn/anaconda3/lib/python3.11/site-packages (from nltk>=3.1->textblob) (2022.7.9)\n",
      "Requirement already satisfied: annotated-types>=0.4.0 in /Users/ahryncyszyn/anaconda3/lib/python3.11/site-packages (from pydantic!=1.8,!=1.8.1,<3.0.0,>=1.7.4->spacy) (0.6.0)\n",
      "Requirement already satisfied: pydantic-core==2.14.6 in /Users/ahryncyszyn/anaconda3/lib/python3.11/site-packages (from pydantic!=1.8,!=1.8.1,<3.0.0,>=1.7.4->spacy) (2.14.6)\n",
      "Requirement already satisfied: typing-extensions>=4.6.1 in /Users/ahryncyszyn/anaconda3/lib/python3.11/site-packages (from pydantic!=1.8,!=1.8.1,<3.0.0,>=1.7.4->spacy) (4.7.1)\n",
      "Requirement already satisfied: charset-normalizer<4,>=2 in /Users/ahryncyszyn/anaconda3/lib/python3.11/site-packages (from requests<3.0.0,>=2.13.0->spacy) (2.0.4)\n",
      "Requirement already satisfied: idna<4,>=2.5 in /Users/ahryncyszyn/anaconda3/lib/python3.11/site-packages (from requests<3.0.0,>=2.13.0->spacy) (3.4)\n",
      "Requirement already satisfied: urllib3<3,>=1.21.1 in /Users/ahryncyszyn/anaconda3/lib/python3.11/site-packages (from requests<3.0.0,>=2.13.0->spacy) (1.26.16)\n",
      "Requirement already satisfied: certifi>=2017.4.17 in /Users/ahryncyszyn/anaconda3/lib/python3.11/site-packages (from requests<3.0.0,>=2.13.0->spacy) (2023.11.17)\n",
      "Requirement already satisfied: blis<0.8.0,>=0.7.8 in /Users/ahryncyszyn/anaconda3/lib/python3.11/site-packages (from thinc<8.3.0,>=8.1.8->spacy) (0.7.11)\n",
      "Requirement already satisfied: confection<1.0.0,>=0.0.1 in /Users/ahryncyszyn/anaconda3/lib/python3.11/site-packages (from thinc<8.3.0,>=8.1.8->spacy) (0.1.4)\n",
      "Requirement already satisfied: cloudpathlib<0.17.0,>=0.7.0 in /Users/ahryncyszyn/anaconda3/lib/python3.11/site-packages (from weasel<0.4.0,>=0.1.0->spacy) (0.16.0)\n",
      "Requirement already satisfied: MarkupSafe>=2.0 in /Users/ahryncyszyn/anaconda3/lib/python3.11/site-packages (from jinja2->spacy) (2.1.1)\n",
      "Note: you may need to restart the kernel to use updated packages.\n",
      "[nltk_data] Downloading package brown to\n",
      "[nltk_data]     /Users/ahryncyszyn/nltk_data...\n",
      "[nltk_data]   Package brown is already up-to-date!\n",
      "[nltk_data] Downloading package punkt to\n",
      "[nltk_data]     /Users/ahryncyszyn/nltk_data...\n",
      "[nltk_data]   Package punkt is already up-to-date!\n",
      "[nltk_data] Downloading package wordnet to\n",
      "[nltk_data]     /Users/ahryncyszyn/nltk_data...\n",
      "[nltk_data]   Package wordnet is already up-to-date!\n",
      "[nltk_data] Downloading package averaged_perceptron_tagger to\n",
      "[nltk_data]     /Users/ahryncyszyn/nltk_data...\n",
      "[nltk_data]   Package averaged_perceptron_tagger is already up-to-\n",
      "[nltk_data]       date!\n",
      "[nltk_data] Downloading package conll2000 to\n",
      "[nltk_data]     /Users/ahryncyszyn/nltk_data...\n",
      "[nltk_data]   Package conll2000 is already up-to-date!\n",
      "[nltk_data] Downloading package movie_reviews to\n",
      "[nltk_data]     /Users/ahryncyszyn/nltk_data...\n",
      "[nltk_data]   Package movie_reviews is already up-to-date!\n",
      "Finished.\n"
     ]
    }
   ],
   "source": [
    "#install required libraries\n",
    "%pip install spacy en_core_web_sm textblob\n",
    "!python -m textblob.download_corpora"
   ]
  },
  {
   "cell_type": "code",
   "execution_count": 81,
   "metadata": {},
   "outputs": [],
   "source": [
    "import pandas as pd\n",
    "import nltk\n",
    "df = pd.read_csv(\"https://raw.githubusercontent.com/j-rossi-nl/teaching-data/main/2024_TRTM/malawi_news_2019.txt\", sep=\"\\t\")"
   ]
  },
  {
   "cell_type": "markdown",
   "metadata": {},
   "source": [
    "# Question 1 - Keywords extraction\n",
    "* Identify 5 unigram keywords per article\n",
    "* Identify 3 bigram keywords per article\n",
    "* Within a document, a keywords are terms (either unigram or bigram) with the highest TFIDF coefficient\n",
    "* A keyword: should not be a stopword, should be lowercase, a lemma, with at lest 2 letters\n",
    "* Store the keywords into 2 columns:\n",
    "  * `unigram_keywords` and `bigram_keywords`\n",
    "  * as a string with keywords separated by comma, such as `flood, food, river, ...` or `major flood, ...`"
   ]
  },
  {
   "cell_type": "code",
   "execution_count": 82,
   "metadata": {},
   "outputs": [
    {
     "data": {
      "text/html": [
       "<div>\n",
       "<style scoped>\n",
       "    .dataframe tbody tr th:only-of-type {\n",
       "        vertical-align: middle;\n",
       "    }\n",
       "\n",
       "    .dataframe tbody tr th {\n",
       "        vertical-align: top;\n",
       "    }\n",
       "\n",
       "    .dataframe thead th {\n",
       "        text-align: right;\n",
       "    }\n",
       "</style>\n",
       "<table border=\"1\" class=\"dataframe\">\n",
       "  <thead>\n",
       "    <tr style=\"text-align: right;\">\n",
       "      <th></th>\n",
       "      <th>news_id</th>\n",
       "      <th>date</th>\n",
       "      <th>text</th>\n",
       "    </tr>\n",
       "  </thead>\n",
       "  <tbody>\n",
       "    <tr>\n",
       "      <th>0</th>\n",
       "      <td>1</td>\n",
       "      <td>2019-01-11T10:32:21</td>\n",
       "      <td>Heavy rains which fell for about three hours i...</td>\n",
       "    </tr>\n",
       "    <tr>\n",
       "      <th>1</th>\n",
       "      <td>2</td>\n",
       "      <td>2019-03-10T09:48:43</td>\n",
       "      <td>The Department of Disaster Management Affairs ...</td>\n",
       "    </tr>\n",
       "    <tr>\n",
       "      <th>2</th>\n",
       "      <td>3</td>\n",
       "      <td>2019-03-12T17:18:22</td>\n",
       "      <td>UN Secretary-General António Guterres has exte...</td>\n",
       "    </tr>\n",
       "    <tr>\n",
       "      <th>3</th>\n",
       "      <td>4</td>\n",
       "      <td>2019-03-13T03:08:25</td>\n",
       "      <td>President Peter Mutharika on Tuesday assured M...</td>\n",
       "    </tr>\n",
       "    <tr>\n",
       "      <th>4</th>\n",
       "      <td>5</td>\n",
       "      <td>2019-03-15T01:43:40</td>\n",
       "      <td>From smiles of rains that crops are to grow, s...</td>\n",
       "    </tr>\n",
       "  </tbody>\n",
       "</table>\n",
       "</div>"
      ],
      "text/plain": [
       "   news_id                 date  \\\n",
       "0        1  2019-01-11T10:32:21   \n",
       "1        2  2019-03-10T09:48:43   \n",
       "2        3  2019-03-12T17:18:22   \n",
       "3        4  2019-03-13T03:08:25   \n",
       "4        5  2019-03-15T01:43:40   \n",
       "\n",
       "                                                text  \n",
       "0  Heavy rains which fell for about three hours i...  \n",
       "1  The Department of Disaster Management Affairs ...  \n",
       "2  UN Secretary-General António Guterres has exte...  \n",
       "3  President Peter Mutharika on Tuesday assured M...  \n",
       "4  From smiles of rains that crops are to grow, s...  "
      ]
     },
     "execution_count": 82,
     "metadata": {},
     "output_type": "execute_result"
    }
   ],
   "source": [
    "df.head()"
   ]
  },
  {
   "cell_type": "code",
   "execution_count": 83,
   "metadata": {},
   "outputs": [
    {
     "name": "stderr",
     "output_type": "stream",
     "text": [
      "[nltk_data] Downloading package punkt to\n",
      "[nltk_data]     /Users/ahryncyszyn/nltk_data...\n",
      "[nltk_data]   Package punkt is already up-to-date!\n",
      "[nltk_data] Downloading package stopwords to\n",
      "[nltk_data]     /Users/ahryncyszyn/nltk_data...\n",
      "[nltk_data]   Package stopwords is already up-to-date!\n",
      "[nltk_data] Downloading package wordnet to\n",
      "[nltk_data]     /Users/ahryncyszyn/nltk_data...\n",
      "[nltk_data]   Package wordnet is already up-to-date!\n"
     ]
    }
   ],
   "source": [
    "from nltk.corpus import stopwords\n",
    "from nltk.tokenize import word_tokenize\n",
    "from nltk.stem import WordNetLemmatizer\n",
    "\n",
    "nltk.download('punkt')\n",
    "nltk.download('stopwords')\n",
    "nltk.download('wordnet')\n",
    "\n",
    "#define the preprocessing steps so they can be easily applied in one line\n",
    "def preprocess_text(text):\n",
    "\n",
    "    #tokenize the text\n",
    "    words = word_tokenize(text)\n",
    "\n",
    "    #remove stop words, lowercase, and filter out short words\n",
    "    stop_words = set(stopwords.words('english'))\n",
    "    words = [word.lower() for word in words if word.lower() not in stop_words and len(word) >= 2]\n",
    "\n",
    "    #lemmatization\n",
    "    lemmatizer = WordNetLemmatizer()\n",
    "    words = [lemmatizer.lemmatize(word) for word in words]\n",
    "\n",
    "    #join the words back into a string\n",
    "    processed_text = ' '.join(words)\n",
    "\n",
    "    return processed_text"
   ]
  },
  {
   "cell_type": "code",
   "execution_count": 84,
   "metadata": {},
   "outputs": [],
   "source": [
    "#apply preprocessing to the 'text' column\n",
    "df['processed_text'] = df['text'].apply(preprocess_text)"
   ]
  },
  {
   "cell_type": "code",
   "execution_count": 85,
   "metadata": {},
   "outputs": [
    {
     "name": "stdout",
     "output_type": "stream",
     "text": [
      "['aamir' 'abandon' 'abduction' ... 'zomba' 'zone' 'zunga']\n",
      "4449\n"
     ]
    }
   ],
   "source": [
    "from sklearn.feature_extraction.text import TfidfVectorizer\n",
    "\n",
    "#create a TF-IDF vectorizer for unigrams\n",
    "unigram_vectorizer = TfidfVectorizer(ngram_range=(1, 1), token_pattern = r'[a-z]{2,}')\n",
    "\n",
    "#fit and transform the vectorizer on the preprocessed text to extract unigrams\n",
    "unigram_tfidf_matrix = unigram_vectorizer.fit_transform(df['processed_text'])\n",
    "\n",
    "#get feature names (unigrams)\n",
    "unigram_feature_names = unigram_vectorizer.get_feature_names_out()\n",
    "print(unigram_feature_names)\n",
    "print(len(unigram_feature_names))"
   ]
  },
  {
   "cell_type": "code",
   "execution_count": 86,
   "metadata": {},
   "outputs": [
    {
     "name": "stdout",
     "output_type": "stream",
     "text": [
      "0          kawale, townships, bridge, damaged, township\n",
      "1           search, rescue, provision, affected, people\n",
      "2                        un, guterres, wfp, caused, ant\n",
      "3      proceeding, mutharika, president, balaka, hunger\n",
      "4                 notebook, learner, kimu, school, many\n",
      "                             ...                       \n",
      "132         southern, statement, condition, storm, read\n",
      "133       production, price, increase, expected, supply\n",
      "134              chimphepo, two, died, burial, sleeping\n",
      "135                chakwera, bought, plan, flood, camps\n",
      "136          school, learner, education, said, learning\n",
      "Name: unigram_keywords, Length: 137, dtype: object\n"
     ]
    }
   ],
   "source": [
    "#get TF-IDF scores for each unigram word\n",
    "unigram_tfidf_scores = unigram_tfidf_matrix.toarray()\n",
    "\n",
    "#sort the list by TF-IDF score in descending order\n",
    "unigram_word_tfidf_tuples = [sorted(zip(unigram_feature_names, scores), key=lambda x: x[1], reverse=True) for scores in unigram_tfidf_scores]\n",
    "\n",
    "#extract the top N unigram keywords\n",
    "df['unigram_keywords'] = unigram_word_tfidf_tuples\n",
    "df['unigram_keywords'] = df['unigram_keywords'].apply(lambda x: ', '.join([word for word, _ in x[:5]]))\n",
    "print(df['unigram_keywords'])"
   ]
  },
  {
   "cell_type": "code",
   "execution_count": 87,
   "metadata": {},
   "outputs": [
    {
     "name": "stdout",
     "output_type": "stream",
     "text": [
      "['aamir jakhura' 'abandon fertile' 'abandon shattered' ...\n",
      " 'zone oscillating' 'zone sharing' 'zunga expressed']\n",
      "19740\n"
     ]
    }
   ],
   "source": [
    "#create a TF-IDF vectorizer for bigrams\n",
    "bigram_vectorizer = TfidfVectorizer(ngram_range=(2, 2), token_pattern = r'[a-z]{2,}')\n",
    "\n",
    "#fit and transform the vectorizer on the preprocessed text to extract bigrams\n",
    "bigram_tfidf_matrix = bigram_vectorizer.fit_transform(df['processed_text'])\n",
    "\n",
    "#get feature names (bigrams)\n",
    "bigram_feature_names = bigram_vectorizer.get_feature_names_out()\n",
    "\n",
    "print(bigram_feature_names)\n",
    "print(len(bigram_feature_names))"
   ]
  },
  {
   "cell_type": "code",
   "execution_count": 88,
   "metadata": {},
   "outputs": [
    {
     "name": "stdout",
     "output_type": "stream",
     "text": [
      "0              also damaged, lilongwe city, city council\n",
      "1      search rescue, provision relief, rescue operation\n",
      "2        agencies the, agriculture organization, ant nio\n",
      "3        proceeding mangochi, visit district, die hunger\n",
      "4        due flood, phalombe district, abandon shattered\n",
      "                             ...                        \n",
      "132      weather condition, southern region, flood prone\n",
      "133                food security, crop loss, food supply\n",
      "134          chimphepo said, died due, mangochi district\n",
      "135       chakwera said, heavy downpour, adaptation plan\n",
      "136            chide said, right education, kondowe said\n",
      "Name: bigram_keywords, Length: 137, dtype: object\n"
     ]
    }
   ],
   "source": [
    "#get TF-IDF scores for each bigram word\n",
    "bigram_tfidf_scores = bigram_tfidf_matrix.toarray()\n",
    "\n",
    "#create a list of (word, TF-IDF score) tuples for bigrams\n",
    "bigram_word_tfidf_tuples = list(zip(bigram_feature_names, bigram_tfidf_scores.T))\n",
    "\n",
    "#sort the list by TF-IDF score in descending order for bigrams\n",
    "bigram_word_tfidf_tuples = [sorted(zip(bigram_feature_names, scores), key=lambda x: x[1], reverse=True) for scores in bigram_tfidf_scores]\n",
    "\n",
    "#extract the top N bigram keywords\n",
    "df['bigram_keywords'] = bigram_word_tfidf_tuples\n",
    "df['bigram_keywords'] = df['bigram_keywords'].apply(lambda x: ', '.join([word for word, _ in x[:3]]) if x else '')\n",
    "print(df['bigram_keywords'])"
   ]
  },
  {
   "cell_type": "code",
   "execution_count": 89,
   "metadata": {},
   "outputs": [
    {
     "name": "stdout",
     "output_type": "stream",
     "text": [
      "     news_id                 date  \\\n",
      "0          1  2019-01-11T10:32:21   \n",
      "1          2  2019-03-10T09:48:43   \n",
      "2          3  2019-03-12T17:18:22   \n",
      "3          4  2019-03-13T03:08:25   \n",
      "4          5  2019-03-15T01:43:40   \n",
      "..       ...                  ...   \n",
      "132      133  2019-01-23T10:50:33   \n",
      "133      134  2019-03-20T10:25:56   \n",
      "134      135  2019-01-14T09:13:59   \n",
      "135      136  2019-03-18T10:46:50   \n",
      "136      137  2019-03-29T12:32:39   \n",
      "\n",
      "                                                  text  \\\n",
      "0    Heavy rains which fell for about three hours i...   \n",
      "1    The Department of Disaster Management Affairs ...   \n",
      "2    UN Secretary-General António Guterres has exte...   \n",
      "3    President Peter Mutharika on Tuesday assured M...   \n",
      "4    From smiles of rains that crops are to grow, s...   \n",
      "..                                                 ...   \n",
      "132  By Jameson Chauluka: Malawi is likely to exper...   \n",
      "133  By Feston Malekezo:The food security situation...   \n",
      "134  By Yohane Symon: Two people died in Mangochi D...   \n",
      "135  By Jameson Chauluka:Malawi Congress Party pres...   \n",
      "136  The calamity which has befallen the country du...   \n",
      "\n",
      "                                        processed_text  \\\n",
      "0    heavy rain fell three hour lilongwe yesterday ...   \n",
      "1    department disaster management affair dodma sa...   \n",
      "2    un secretary-general antónio guterres extended...   \n",
      "3    president peter mutharika tuesday assured mala...   \n",
      "4    smile rain crop grow sorrow followed heavy dow...   \n",
      "..                                                 ...   \n",
      "132  jameson chauluka malawi likely experience floo...   \n",
      "133  feston malekezo food security situation expect...   \n",
      "134  yohane symon two people died mangochi district...   \n",
      "135  jameson chauluka malawi congress party preside...   \n",
      "136  calamity befallen country due flood caused hea...   \n",
      "\n",
      "                                     unigram_keywords  \\\n",
      "0        kawale, townships, bridge, damaged, township   \n",
      "1         search, rescue, provision, affected, people   \n",
      "2                      un, guterres, wfp, caused, ant   \n",
      "3    proceeding, mutharika, president, balaka, hunger   \n",
      "4               notebook, learner, kimu, school, many   \n",
      "..                                                ...   \n",
      "132       southern, statement, condition, storm, read   \n",
      "133     production, price, increase, expected, supply   \n",
      "134            chimphepo, two, died, burial, sleeping   \n",
      "135              chakwera, bought, plan, flood, camps   \n",
      "136        school, learner, education, said, learning   \n",
      "\n",
      "                                       bigram_keywords  \n",
      "0            also damaged, lilongwe city, city council  \n",
      "1    search rescue, provision relief, rescue operation  \n",
      "2      agencies the, agriculture organization, ant nio  \n",
      "3      proceeding mangochi, visit district, die hunger  \n",
      "4      due flood, phalombe district, abandon shattered  \n",
      "..                                                 ...  \n",
      "132    weather condition, southern region, flood prone  \n",
      "133              food security, crop loss, food supply  \n",
      "134        chimphepo said, died due, mangochi district  \n",
      "135     chakwera said, heavy downpour, adaptation plan  \n",
      "136          chide said, right education, kondowe said  \n",
      "\n",
      "[137 rows x 6 columns]\n"
     ]
    }
   ],
   "source": [
    "print(df)"
   ]
  },
  {
   "cell_type": "markdown",
   "metadata": {},
   "source": [
    "# Question 2 - Sentiment Polarity\n",
    "* Use Spacy Text Blob to assess the sentiment polarity of each news article\n",
    "* Plot the distribution of the polarity across the corpus\n",
    "* Create a machine learning pipeline to discover the words mostly associated to a positive polarity\n",
    "* Show the 3 words with the highest weight"
   ]
  },
  {
   "cell_type": "code",
   "execution_count": 90,
   "metadata": {},
   "outputs": [],
   "source": [
    "import spacy\n",
    "import pandas as pd\n",
    "from textblob import TextBlob\n",
    "from sklearn.model_selection import train_test_split\n",
    "from sklearn.feature_extraction.text import CountVectorizer\n",
    "from sklearn.linear_model import LogisticRegression\n",
    "from sklearn.pipeline import make_pipeline\n",
    "from sklearn.model_selection import GridSearchCV\n",
    "import matplotlib.pyplot as plt\n",
    "\n",
    "nlp = spacy.load(\"en_core_web_sm\")\n",
    "\n",
    "#create a column with sentiment polarity using TextBlob\n",
    "df['polarity'] = df['text'].apply(lambda x: TextBlob(x).sentiment.polarity)"
   ]
  },
  {
   "cell_type": "code",
   "execution_count": 91,
   "metadata": {},
   "outputs": [
    {
     "data": {
      "image/png": "[encoded data removed]",
      "text/plain": [
       "<Figure size 640x480 with 1 Axes>"
      ]
     },
     "metadata": {},
     "output_type": "display_data"
    }
   ],
   "source": [
    "#plot the distribution of the polarity\n",
    "plt.hist(df['polarity'], bins=20, edgecolor='black')\n",
    "plt.title('Distribution of Sentiment Polarity')\n",
    "plt.xlabel('Polarity')\n",
    "plt.ylabel('Frequency')\n",
    "plt.show()"
   ]
  },
  {
   "cell_type": "code",
   "execution_count": 92,
   "metadata": {},
   "outputs": [
    {
     "name": "stdout",
     "output_type": "stream",
     "text": [
      "10     False\n",
      "130     True\n",
      "51     False\n",
      "11     False\n",
      "114    False\n",
      "       ...  \n",
      "71     False\n",
      "106     True\n",
      "14     False\n",
      "92      True\n",
      "102     True\n",
      "Name: polarity, Length: 109, dtype: bool\n"
     ]
    }
   ],
   "source": [
    "#split the data into training and testing sets\n",
    "X_train, X_test, y_train, y_test = train_test_split(df['text'], df['polarity'] > 0, test_size=0.2, random_state=42)\n",
    "\n",
    "print(y_train)"
   ]
  },
  {
   "cell_type": "code",
   "execution_count": 93,
   "metadata": {},
   "outputs": [
    {
     "name": "stdout",
     "output_type": "stream",
     "text": [
      "TRAIN data:\n",
      "class balance:  [36 73]\n",
      "TEST data:\n",
      "class balance:  [36 73]\n"
     ]
    }
   ],
   "source": [
    "import numpy as np\n",
    "\n",
    "#there's class imbalance - accuracy score won't be meaningful!\n",
    "print(\"TRAIN data:\")\n",
    "print(\"class balance: \", np.bincount(y_train))\n",
    "print(\"TEST data:\")\n",
    "print(\"class balance: \", np.bincount(y_train))"
   ]
  },
  {
   "cell_type": "code",
   "execution_count": 94,
   "metadata": {},
   "outputs": [],
   "source": [
    "from itertools import count\n",
    "from imblearn.over_sampling import SMOTE\n",
    "from sklearn.feature_extraction.text import CountVectorizer\n",
    "from sklearn.model_selection import train_test_split\n",
    "\n",
    "#an attempt to use oversampling to balance the classes\n",
    "#however, it prevented us from using the vectorizer in the pipeline in the next step\n",
    "#so eventually it was not used\n",
    "count_vectorizer = CountVectorizer(max_features=5000)\n",
    "X_train_count = count_vectorizer.fit_transform(X_train)\n",
    "\n",
    "# SMOTE [we need to be careful with strategy=1 as it can lead to overfitting]\n",
    "smote = SMOTE(sampling_strategy=1)\n",
    "X_resampled, y_resampled = smote.fit_resample(X_train_count, y_train)"
   ]
  },
  {
   "cell_type": "code",
   "execution_count": 95,
   "metadata": {},
   "outputs": [],
   "source": [
    "#define the ML pipeline\n",
    "pipeline = make_pipeline(CountVectorizer(max_features=100),\n",
    "                        LogisticRegression(solver='liblinear', intercept_scaling=1, random_state=42, max_iter=100))"
   ]
  },
  {
   "cell_type": "code",
   "execution_count": 96,
   "metadata": {},
   "outputs": [
    {
     "data": {
      "text/html": [
       "<style>#sk-container-id-7 {color: black;background-color: white;}#sk-container-id-7 pre{padding: 0;}#sk-container-id-7 div.sk-toggleable {background-color: white;}#sk-container-id-7 label.sk-toggleable__label {cursor: pointer;display: block;width: 100%;margin-bottom: 0;padding: 0.3em;box-sizing: border-box;text-align: center;}#sk-container-id-7 label.sk-toggleable__label-arrow:before {content: \"▸\";float: left;margin-right: 0.25em;color: #696969;}#sk-container-id-7 label.sk-toggleable__label-arrow:hover:before {color: black;}#sk-container-id-7 div.sk-estimator:hover label.sk-toggleable__label-arrow:before {color: black;}#sk-container-id-7 div.sk-toggleable__content {max-height: 0;max-width: 0;overflow: hidden;text-align: left;background-color: #f0f8ff;}#sk-container-id-7 div.sk-toggleable__content pre {margin: 0.2em;color: black;border-radius: 0.25em;background-color: #f0f8ff;}#sk-container-id-7 input.sk-toggleable__control:checked~div.sk-toggleable__content {max-height: 200px;max-width: 100%;overflow: auto;}#sk-container-id-7 input.sk-toggleable__control:checked~label.sk-toggleable__label-arrow:before {content: \"▾\";}#sk-container-id-7 div.sk-estimator input.sk-toggleable__control:checked~label.sk-toggleable__label {background-color: #d4ebff;}#sk-container-id-7 div.sk-label input.sk-toggleable__control:checked~label.sk-toggleable__label {background-color: #d4ebff;}#sk-container-id-7 input.sk-hidden--visually {border: 0;clip: rect(1px 1px 1px 1px);clip: rect(1px, 1px, 1px, 1px);height: 1px;margin: -1px;overflow: hidden;padding: 0;position: absolute;width: 1px;}#sk-container-id-7 div.sk-estimator {font-family: monospace;background-color: #f0f8ff;border: 1px dotted black;border-radius: 0.25em;box-sizing: border-box;margin-bottom: 0.5em;}#sk-container-id-7 div.sk-estimator:hover {background-color: #d4ebff;}#sk-container-id-7 div.sk-parallel-item::after {content: \"\";width: 100%;border-bottom: 1px solid gray;flex-grow: 1;}#sk-container-id-7 div.sk-label:hover label.sk-toggleable__label {background-color: #d4ebff;}#sk-container-id-7 div.sk-serial::before {content: \"\";position: absolute;border-left: 1px solid gray;box-sizing: border-box;top: 0;bottom: 0;left: 50%;z-index: 0;}#sk-container-id-7 div.sk-serial {display: flex;flex-direction: column;align-items: center;background-color: white;padding-right: 0.2em;padding-left: 0.2em;position: relative;}#sk-container-id-7 div.sk-item {position: relative;z-index: 1;}#sk-container-id-7 div.sk-parallel {display: flex;align-items: stretch;justify-content: center;background-color: white;position: relative;}#sk-container-id-7 div.sk-item::before, #sk-container-id-7 div.sk-parallel-item::before {content: \"\";position: absolute;border-left: 1px solid gray;box-sizing: border-box;top: 0;bottom: 0;left: 50%;z-index: -1;}#sk-container-id-7 div.sk-parallel-item {display: flex;flex-direction: column;z-index: 1;position: relative;background-color: white;}#sk-container-id-7 div.sk-parallel-item:first-child::after {align-self: flex-end;width: 50%;}#sk-container-id-7 div.sk-parallel-item:last-child::after {align-self: flex-start;width: 50%;}#sk-container-id-7 div.sk-parallel-item:only-child::after {width: 0;}#sk-container-id-7 div.sk-dashed-wrapped {border: 1px dashed gray;margin: 0 0.4em 0.5em 0.4em;box-sizing: border-box;padding-bottom: 0.4em;background-color: white;}#sk-container-id-7 div.sk-label label {font-family: monospace;font-weight: bold;display: inline-block;line-height: 1.2em;}#sk-container-id-7 div.sk-label-container {text-align: center;}#sk-container-id-7 div.sk-container {/* jupyter's `normalize.less` sets `[hidden] { display: none; }` but bootstrap.min.css set `[hidden] { display: none !important; }` so we also need the `!important` here to be able to override the default hidden behavior on the sphinx rendered scikit-learn.org. See: https://github.com/scikit-learn/scikit-learn/issues/21755 */display: inline-block !important;position: relative;}#sk-container-id-7 div.sk-text-repr-fallback {display: none;}</style><div id=\"sk-container-id-7\" class=\"sk-top-container\"><div class=\"sk-text-repr-fallback\"><pre>GridSearchCV(cv=5,\n",
       "             estimator=Pipeline(steps=[(&#x27;countvectorizer&#x27;,\n",
       "                                        CountVectorizer(max_features=100)),\n",
       "                                       (&#x27;logisticregression&#x27;,\n",
       "                                        LogisticRegression(random_state=42,\n",
       "                                                           solver=&#x27;liblinear&#x27;))]),\n",
       "             param_grid={&#x27;countvectorizer__max_features&#x27;: [100, None],\n",
       "                         &#x27;logisticregression__C&#x27;: [0.01, 0.1, 1, 10, 100]},\n",
       "             scoring=&#x27;balanced_accuracy&#x27;)</pre><b>In a Jupyter environment, please rerun this cell to show the HTML representation or trust the notebook. <br />On GitHub, the HTML representation is unable to render, please try loading this page with nbviewer.org.</b></div><div class=\"sk-container\" hidden><div class=\"sk-item sk-dashed-wrapped\"><div class=\"sk-label-container\"><div class=\"sk-label sk-toggleable\"><input class=\"sk-toggleable__control sk-hidden--visually\" id=\"sk-estimator-id-25\" type=\"checkbox\" ><label for=\"sk-estimator-id-25\" class=\"sk-toggleable__label sk-toggleable__label-arrow\">GridSearchCV</label><div class=\"sk-toggleable__content\"><pre>GridSearchCV(cv=5,\n",
       "             estimator=Pipeline(steps=[(&#x27;countvectorizer&#x27;,\n",
       "                                        CountVectorizer(max_features=100)),\n",
       "                                       (&#x27;logisticregression&#x27;,\n",
       "                                        LogisticRegression(random_state=42,\n",
       "                                                           solver=&#x27;liblinear&#x27;))]),\n",
       "             param_grid={&#x27;countvectorizer__max_features&#x27;: [100, None],\n",
       "                         &#x27;logisticregression__C&#x27;: [0.01, 0.1, 1, 10, 100]},\n",
       "             scoring=&#x27;balanced_accuracy&#x27;)</pre></div></div></div><div class=\"sk-parallel\"><div class=\"sk-parallel-item\"><div class=\"sk-item\"><div class=\"sk-label-container\"><div class=\"sk-label sk-toggleable\"><input class=\"sk-toggleable__control sk-hidden--visually\" id=\"sk-estimator-id-26\" type=\"checkbox\" ><label for=\"sk-estimator-id-26\" class=\"sk-toggleable__label sk-toggleable__label-arrow\">estimator: Pipeline</label><div class=\"sk-toggleable__content\"><pre>Pipeline(steps=[(&#x27;countvectorizer&#x27;, CountVectorizer(max_features=100)),\n",
       "                (&#x27;logisticregression&#x27;,\n",
       "                 LogisticRegression(random_state=42, solver=&#x27;liblinear&#x27;))])</pre></div></div></div><div class=\"sk-serial\"><div class=\"sk-item\"><div class=\"sk-serial\"><div class=\"sk-item\"><div class=\"sk-estimator sk-toggleable\"><input class=\"sk-toggleable__control sk-hidden--visually\" id=\"sk-estimator-id-27\" type=\"checkbox\" ><label for=\"sk-estimator-id-27\" class=\"sk-toggleable__label sk-toggleable__label-arrow\">CountVectorizer</label><div class=\"sk-toggleable__content\"><pre>CountVectorizer(max_features=100)</pre></div></div></div><div class=\"sk-item\"><div class=\"sk-estimator sk-toggleable\"><input class=\"sk-toggleable__control sk-hidden--visually\" id=\"sk-estimator-id-28\" type=\"checkbox\" ><label for=\"sk-estimator-id-28\" class=\"sk-toggleable__label sk-toggleable__label-arrow\">LogisticRegression</label><div class=\"sk-toggleable__content\"><pre>LogisticRegression(random_state=42, solver=&#x27;liblinear&#x27;)</pre></div></div></div></div></div></div></div></div></div></div></div></div>"
      ],
      "text/plain": [
       "GridSearchCV(cv=5,\n",
       "             estimator=Pipeline(steps=[('countvectorizer',\n",
       "                                        CountVectorizer(max_features=100)),\n",
       "                                       ('logisticregression',\n",
       "                                        LogisticRegression(random_state=42,\n",
       "                                                           solver='liblinear'))]),\n",
       "             param_grid={'countvectorizer__max_features': [100, None],\n",
       "                         'logisticregression__C': [0.01, 0.1, 1, 10, 100]},\n",
       "             scoring='balanced_accuracy')"
      ]
     },
     "execution_count": 96,
     "metadata": {},
     "output_type": "execute_result"
    }
   ],
   "source": [
    "#define hyperparameters to be tuned\n",
    "param_grid = {'logisticregression__C': [10**-2, 10**-1, 1, 10, 10**2], \n",
    "              'countvectorizer__max_features': [100, None]}\n",
    "\n",
    "#perform GridSearchCV for hyperparameter tuning\n",
    "grid = GridSearchCV(pipeline, param_grid, cv=5, scoring='balanced_accuracy')\n",
    "grid.fit(X_train, y_train)"
   ]
  },
  {
   "cell_type": "code",
   "execution_count": 97,
   "metadata": {},
   "outputs": [
    {
     "name": "stdout",
     "output_type": "stream",
     "text": [
      "              precision    recall  f1-score   support\n",
      "\n",
      "       False       0.80      0.36      0.50        11\n",
      "        True       0.70      0.94      0.80        17\n",
      "\n",
      "    accuracy                           0.71        28\n",
      "   macro avg       0.75      0.65      0.65        28\n",
      "weighted avg       0.74      0.71      0.68        28\n",
      "\n"
     ]
    }
   ],
   "source": [
    "from sklearn.metrics import classification_report\n",
    "\n",
    "#evaluate and report on the model\n",
    "best_model = grid.best_estimator_\n",
    "y_pred = best_model.predict(X_test)\n",
    "report = classification_report(y_test, y_pred)\n",
    "print(report)"
   ]
  },
  {
   "cell_type": "code",
   "execution_count": 98,
   "metadata": {},
   "outputs": [
    {
     "name": "stdout",
     "output_type": "stream",
     "text": [
      "\n",
      "Top 3 Words with Highest Weight:\n",
      "     Feature    Weight\n",
      "4258    with  0.176589\n",
      "2581    more  0.172445\n",
      "2476     mcp  0.119565\n"
     ]
    }
   ],
   "source": [
    "#show the 3 words with the highest weight\n",
    "best_model = grid.best_estimator_.named_steps['logisticregression']\n",
    "best_features = grid.best_estimator_.named_steps['countvectorizer'].get_feature_names_out()\n",
    "coef = best_model.coef_[0]\n",
    "\n",
    "#create a DataFrame to display the results\n",
    "feature_weights = pd.DataFrame({'Feature': best_features, 'Weight': coef})\n",
    "top_3_words = feature_weights.nlargest(3, 'Weight')\n",
    "print('\\nTop 3 Words with Highest Weight:')\n",
    "print(top_3_words)"
   ]
  },
  {
   "cell_type": "markdown",
   "metadata": {},
   "source": [
    "# Question 3 - Named Entity Recognition\n",
    "* An **ENTITY** is a word, or group of multiple words that is of a particular type (\"one\" and \"two thousands\" are numbers, \"September 1st 2023\" and \"01-09-2023\" are dates, \"Michael Jordan\" is a person's name, \"River Gange\" is a place's name)\n",
    "* Use Spacy to identify all of the named entities in the articles\n",
    "* Which are the top-3 most frequent labels ?\n",
    "* Which are the top-3 most frequent entity text for \"ORG\" label ?\n",
    "* Same question for the \"PERSON\" label ?"
   ]
  },
  {
   "cell_type": "code",
   "execution_count": 99,
   "metadata": {},
   "outputs": [],
   "source": [
    "#extract only the text from the df\n",
    "articles = df['text']\n",
    "nlp = spacy.load(\"en_core_web_sm\")"
   ]
  },
  {
   "cell_type": "code",
   "execution_count": 100,
   "metadata": {},
   "outputs": [],
   "source": [
    "#initialize lists to store entities\n",
    "entity_texts = []\n",
    "entity_labels = []"
   ]
  },
  {
   "cell_type": "code",
   "execution_count": 101,
   "metadata": {},
   "outputs": [],
   "source": [
    "#process each article\n",
    "for article in articles:\n",
    "    doc = nlp(article)\n",
    "\n",
    "    for ent in doc.ents:\n",
    "\n",
    "      entity_texts.append(ent.text)\n",
    "      entity_labels.append(ent.label_)"
   ]
  },
  {
   "cell_type": "code",
   "execution_count": 102,
   "metadata": {},
   "outputs": [
    {
     "name": "stdout",
     "output_type": "stream",
     "text": [
      "                text   label\n",
      "0  about three hours    TIME\n",
      "1           Lilongwe     GPE\n",
      "2          yesterday    DATE\n",
      "3   Chipasula Bridge  PERSON\n",
      "4      Kawale Bridge     FAC\n"
     ]
    }
   ],
   "source": [
    "entities = pd.DataFrame({\"text\": entity_texts, \"label\": entity_labels})\n",
    "print(entities.head())"
   ]
  },
  {
   "cell_type": "code",
   "execution_count": 103,
   "metadata": {},
   "outputs": [
    {
     "name": "stdout",
     "output_type": "stream",
     "text": [
      "\n",
      "Top-3 most frequent labels:\n",
      "ORG         1051\n",
      "PERSON       981\n",
      "CARDINAL     651\n",
      "Name: label, dtype: int64\n"
     ]
    }
   ],
   "source": [
    "#top-3 most frequent labels\n",
    "top_labels = entities[\"label\"].value_counts().head(3)\n",
    "print(\"\\nTop-3 most frequent labels:\")\n",
    "print(top_labels)"
   ]
  },
  {
   "cell_type": "code",
   "execution_count": 104,
   "metadata": {},
   "outputs": [
    {
     "name": "stdout",
     "output_type": "stream",
     "text": [
      "\n",
      "Top-3 most frequent entities for 'ORG' label:\n",
      "Chikwawa                                         34\n",
      "MCP                                              20\n",
      "the Department of Disaster Management Affairs    20\n",
      "Name: text, dtype: int64\n"
     ]
    }
   ],
   "source": [
    "#top-3 most frequent entity texts for \"ORG\" label\n",
    "top_org_entities = entities[entities[\"label\"] == \"ORG\"][\"text\"].value_counts().head(3)\n",
    "print(\"\\nTop-3 most frequent entities for 'ORG' label:\")\n",
    "print(top_org_entities)"
   ]
  },
  {
   "cell_type": "code",
   "execution_count": 105,
   "metadata": {},
   "outputs": [
    {
     "name": "stdout",
     "output_type": "stream",
     "text": [
      "\n",
      "Top-3 most frequent entities for 'PERSON' label:\n",
      "Malawi             174\n",
      "Sharing             81\n",
      "Peter Mutharika     23\n",
      "Name: text, dtype: int64\n"
     ]
    }
   ],
   "source": [
    "#top-3 most frequent entitity texts for \"PERSON\" label\n",
    "top_person_entities = entities[entities[\"label\"] == \"PERSON\"][\"text\"].value_counts().head(3)\n",
    "print(\"\\nTop-3 most frequent entities for 'PERSON' label:\")\n",
    "print(top_person_entities)"
   ]
  }
 ],
 "metadata": {
  "kernelspec": {
   "display_name": "Python 3",
   "language": "python",
   "name": "python3"
  },
  "language_info": {
   "codemirror_mode": {
    "name": "ipython",
    "version": 3
   },
   "file_extension": ".py",
   "mimetype": "text/x-python",
   "name": "python",
   "nbconvert_exporter": "python",
   "pygments_lexer": "ipython3",
   "version": "3.11.4"
  }
 },
 "nbformat": 4,
 "nbformat_minor": 2
}
